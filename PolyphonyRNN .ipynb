{
 "cells": [
  {
   "cell_type": "code",
   "execution_count": null,
   "metadata": {},
   "outputs": [],
   "source": [
    "import os\n",
    "\n",
    "BASE_DIR = '/home/rithomas'\n",
    "# folder containing MIDI and/or MusicXML files. can have child folders.\n",
    "RAW_DATA = os.path.join(BASE_DIR, 'data', 'clean_midi')\n",
    "# TFRecord file that will contain NoteSequence protocol buffers.\n",
    "SEQUENCES_TFRECORD = os.path.join(BASE_DIR, 'cache', 'polyphonyRNN', 'data', 'notesequences.tfrecord')\n",
    "# Model config must be one of ['basic_improv', 'attention_improv', 'chord_pitches_improv']\n",
    "POLYPHONY_RNN_CONFIG = 'chord_pitches_improv'\n",
    "# Model directory for storing weights and tensorboard stuff\n",
    "POLYPHONY_RNN_DIR = os.path.join(BASE_DIR, 'cache', 'polyphonyRNN', 'model')\n",
    "# Dataset of Sequence Examples for the ImprovRNN Model\n",
    "POLYPHONY_RNN_DATASET = os.path.join(BASE_DIR, 'cache', 'polyphonyRNN')\n",
    "# Training sequence examples\n",
    "TRAINING_EXAMPLES = os.path.join(POLYPHONY_RNN_DATASET, 'training_lead_sheets.tfrecord')\n",
    "# Dir for testing outputs\n",
    "OUTPUTS_PATH = os.path.join(POLYPHONY_RNN_DATASET, 'outputs')\n",
    "# Final bundled model\n",
    "BUNDLE_DIR = os.path.join(POLYPHONY_RNN_DIR, POLYPHONY_RNN_CONFIG + '.mag')\n",
    "\n",
    "if not os.path.exists(SEQUENCES_TFRECORD):\n",
    "    !python3 \"magenta/scripts/convert_dir_to_note_sequences.py\" \\\n",
    "      --input_dir=$RAW_DATA \\\n",
    "      --output_file=$SEQUENCES_TFRECORD \\\n",
    "      --recursive"
   ]
  },
  {
   "cell_type": "code",
   "execution_count": null,
   "metadata": {},
   "outputs": [],
   "source": [
    "polyphony_rnn_create_dataset \\\n",
    "--input=/tmp/notesequences.tfrecord \\\n",
    "--output_dir=/tmp/polyphony_rnn/sequence_examples \\\n",
    "--eval_ratio=0.10\n"
   ]
  },
  {
   "cell_type": "code",
   "execution_count": null,
   "metadata": {},
   "outputs": [],
   "source": [
    "polyphony_rnn_train \\\n",
    "--run_dir=/tmp/polyphony_rnn/logdir/run1 \\\n",
    "--sequence_example_file=/tmp/polyphony_rnn/sequence_examples/training_poly_tracks.tfrecord \\\n",
    "--hparams=\"batch_size=64,rnn_layer_sizes=[64,64]\" \\\n",
    "--num_training_steps=20000"
   ]
  },
  {
   "cell_type": "code",
   "execution_count": null,
   "metadata": {},
   "outputs": [],
   "source": [
    "polyphony_rnn_generate \\\n",
    "--run_dir=/tmp/polyphony_rnn/logdir/run1 \\\n",
    "--hparams=\"batch_size=64,rnn_layer_sizes=[64,64]\" \\\n",
    "--output_dir=/tmp/polyphony_rnn/generated \\\n",
    "--num_outputs=10 \\\n",
    "--num_steps=128 \\\n",
    "--primer_pitches=\"[67,64,60]\" \\\n",
    "--condition_on_primer=true \\\n",
    "--inject_primer_during_generation=false"
   ]
  },
  {
   "cell_type": "code",
   "execution_count": null,
   "metadata": {},
   "outputs": [],
   "source": [
    "polyphony_rnn_generate \\\n",
    "--run_dir=/tmp/polyphony_rnn/logdir/run1 \\\n",
    "--hparams=\"batch_size=64,rnn_layer_sizes=[64,64]\" \\\n",
    "--bundle_file=/tmp/polyphony_rnn.mag \\\n",
    "--save_generator_bundle"
   ]
  }
 ],
 "metadata": {
  "kernelspec": {
   "display_name": "Python 3",
   "language": "python",
   "name": "python3"
  },
  "language_info": {
   "codemirror_mode": {
    "name": "ipython",
    "version": 3
   },
   "file_extension": ".py",
   "mimetype": "text/x-python",
   "name": "python",
   "nbconvert_exporter": "python",
   "pygments_lexer": "ipython3",
   "version": "3.6.9"
  }
 },
 "nbformat": 4,
 "nbformat_minor": 4
}
