{
 "cells": [
  {
   "cell_type": "markdown",
   "metadata": {},
   "source": [
    "## Basic setup and directory structure"
   ]
  },
  {
   "cell_type": "code",
   "execution_count": null,
   "metadata": {},
   "outputs": [],
   "source": [
    "import os\n",
    "\n",
    "BASE_DIR = '/home/rithomas'\n",
    "# folder containing MIDI and/or MusicXML files. can have child folders.\n",
    "RAW_DATA = os.path.join(BASE_DIR, 'data', 'clean_midi')\n",
    "# TFRecord file that will contain NoteSequence protocol buffers.\n",
    "SEQUENCES_TFRECORD = os.path.join(BASE_DIR, 'cache', 'melodyRNN', 'data', 'notesequences.tfrecord')\n",
    "# CONFIG=<one of 'one_drum' or 'drum_kit', matching the bundle>\n",
    "DRUMS_RNN_CONFIG = 'drum_kit'\n",
    "# Model directory for storing weights and tensorboard stuff\n",
    "DRUMS_RNN_DIR = os.path.join(BASE_DIR, 'cache', 'drumsRNN', 'model')\n",
    "# Dataset of Sequence Examples for the ImprovRNN Model\n",
    "DRUMS_RNN_DATASET = os.path.join(BASE_DIR, 'cache', 'drumsRNN', 'data')\n",
    "# Training sequence examples\n",
    "TRAINING_EXAMPLES = os.path.join(DRUMS_RNN_DATASET, 'training_drum_tracks.tfrecord')\n",
    "# Dir for testing outputs\n",
    "OUTPUTS_PATH = os.path.join(DRUMS_RNN_DATASET, 'outputs')\n",
    "# Final bundled model\n",
    "BUNDLE_DIR = os.path.join(DRUMS_RNN_DIR, DRUMS_RNN_CONFIG + '.mag')\n",
    "\n",
    "if not os.path.exists(SEQUENCES_TFRECORD):\n",
    "    !python3 \"magenta/scripts/convert_dir_to_note_sequences.py\" \\\n",
    "      --input_dir=$RAW_DATA \\\n",
    "      --output_file=$SEQUENCES_TFRECORD \\\n",
    "      --recursive"
   ]
  },
  {
   "cell_type": "markdown",
   "metadata": {},
   "source": [
    "## Create DrumsRNN Dataset"
   ]
  },
  {
   "cell_type": "code",
   "execution_count": null,
   "metadata": {},
   "outputs": [],
   "source": [
    "!python3 \"magenta/models/drums_rnn/drums_rnn_create_dataset.py\" \\\n",
    "    --config=$DRUMS_RNN_CONFIG \\\n",
    "    --input=$SEQUENCES_TFRECORD \\\n",
    "    --output_dir=$DRUMS_RNN_DATASET \\\n",
    "    --eval_ratio=0.10"
   ]
  },
  {
   "cell_type": "markdown",
   "metadata": {},
   "source": [
    "## Train DrumsRNN on Dataset"
   ]
  },
  {
   "cell_type": "code",
   "execution_count": null,
   "metadata": {},
   "outputs": [],
   "source": [
    "!python3 \"magenta/models/drums_rnn/drums_rnn_train.py\" \\\n",
    "    --config=$DRUMS_RNN_CONFIG \\\n",
    "    --run_dir=$DRUMS_RNN_DIR \\\n",
    "    --sequence_example_file= $TRAINING_EXAMPLES \\\n",
    "    --hparams=\"batch_size=64,rnn_layer_sizes=[64,64]\" \\\n",
    "    --num_training_steps=20000"
   ]
  },
  {
   "cell_type": "markdown",
   "metadata": {},
   "source": [
    "## Generate some outputs for testing"
   ]
  },
  {
   "cell_type": "code",
   "execution_count": null,
   "metadata": {},
   "outputs": [],
   "source": [
    "!python3 \"magenta/models/drums_rnn/drums_rnn_generate.py\" \\\n",
    "    --config=$DRUMS_RNN_CONFIG \\\n",
    "    --run_dir=$DRUMS_RNN_DIR \\\n",
    "    --hparams=\"batch_size=64,rnn_layer_sizes=[64,64]\" \\\n",
    "    --output_dir=$OUTPUTS_PATH \\\n",
    "    --num_outputs=10 \\\n",
    "    --num_steps=128 \\\n",
    "    --primer_drums=\"[(36,)]\""
   ]
  },
  {
   "cell_type": "markdown",
   "metadata": {},
   "source": [
    "## Save model if you like it!"
   ]
  },
  {
   "cell_type": "code",
   "execution_count": null,
   "metadata": {},
   "outputs": [],
   "source": [
    "!python3 \"magenta/models/drums_rnn/drums_rnn_generate.py\" \\\n",
    "    --config=$DRUMS_RNN_CONFIG \\\n",
    "    --run_dir=$DRUMS_RNN_DIR\\\n",
    "    --hparams=\"batch_size=64,rnn_layer_sizes=[64,64]\" \\\n",
    "    --bundle_file=$BUNDLE_DIR \\\n",
    "    --save_generator_bundle"
   ]
  }
 ],
 "metadata": {
  "kernelspec": {
   "display_name": "Python 3",
   "language": "python",
   "name": "python3"
  },
  "language_info": {
   "codemirror_mode": {
    "name": "ipython",
    "version": 3
   },
   "file_extension": ".py",
   "mimetype": "text/x-python",
   "name": "python",
   "nbconvert_exporter": "python",
   "pygments_lexer": "ipython3",
   "version": "3.6.9"
  }
 },
 "nbformat": 4,
 "nbformat_minor": 4
}
