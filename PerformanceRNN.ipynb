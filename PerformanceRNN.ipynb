{
 "cells": [
  {
   "cell_type": "markdown",
   "metadata": {},
   "source": [
    "## Basic setup and directory structure"
   ]
  },
  {
   "cell_type": "code",
   "execution_count": null,
   "metadata": {},
   "outputs": [],
   "source": [
    "import os\n",
    "\n",
    "BASE_DIR = '/home/rithomas'\n",
    "# folder containing MIDI and/or MusicXML files. can have child folders.\n",
    "RAW_DATA = os.path.join(BASE_DIR, 'data', 'clean_midi')\n",
    "# TFRecord file that will contain NoteSequence protocol buffers.\n",
    "SEQUENCES_TFRECORD = os.path.join(BASE_DIR, 'cache', 'performanceRNN', 'data', 'notesequences.tfrecord')\n",
    "# Model config must be one of ['basic_improv', 'attention_improv', 'chord_pitches_improv']\n",
    "PERFORMANCE_RNN_CONFIG = 'chord_pitches_improv'\n",
    "# Model directory for storing weights and tensorboard stuff\n",
    "PERFORMANCE_RNN_DIR = os.path.join(BASE_DIR, 'cache', 'performanceRNN', 'model')\n",
    "# Dataset of Sequence Examples for the ImprovRNN Model\n",
    "PERFORMANCE_RNN_DATASET = os.path.join(BASE_DIR, 'cache', 'performanceRNN')\n",
    "# Training sequence examples\n",
    "TRAINING_EXAMPLES = os.path.join(PERFORMANCE_RNN_DATASET, 'training_lead_sheets.tfrecord')\n",
    "# Dir for testing outputs\n",
    "OUTPUTS_PATH = os.path.join(PERFORMANCE_RNN_DATASET, 'outputs')\n",
    "# Final bundled model\n",
    "BUNDLE_DIR = os.path.join(PERFORMANCE_RNN_DIR, PERFORMANCE_RNN_CONFIG + '.mag')\n",
    "\n",
    "if not os.path.exists(SEQUENCES_TFRECORD):\n",
    "    !python3 \"magenta/scripts/convert_dir_to_note_sequences.py\" \\\n",
    "      --input_dir=$RAW_DATA \\\n",
    "      --output_file=$SEQUENCES_TFRECORD \\\n",
    "      --recursive"
   ]
  },
  {
   "cell_type": "markdown",
   "metadata": {},
   "source": [
    "## Create PerformanceRNN Dataset"
   ]
  },
  {
   "cell_type": "code",
   "execution_count": null,
   "metadata": {},
   "outputs": [],
   "source": [
    "# CONFIG=<one of 'performance', 'performance_with_dynamics', etc.>\n",
    "performance_rnn_create_dataset \\\n",
    "--config=${CONFIG} \\\n",
    "--input=/tmp/notesequences.tfrecord \\\n",
    "--output_dir=/tmp/performance_rnn/sequence_examples \\\n",
    "--eval_ratio=0.10"
   ]
  },
  {
   "cell_type": "markdown",
   "metadata": {},
   "source": [
    "## Train PerformanceRNN on Dataset "
   ]
  },
  {
   "cell_type": "code",
   "execution_count": null,
   "metadata": {},
   "outputs": [],
   "source": [
    "performance_rnn_train \\\n",
    "--config=${CONFIG} \\\n",
    "--run_dir=/tmp/performance_rnn/logdir/run1 \\\n",
    "--sequence_example_file=/tmp/performance_rnn/sequence_examples/training_performances.tfrecord"
   ]
  },
  {
   "cell_type": "markdown",
   "metadata": {},
   "source": [
    "## Generate some outputs for testing"
   ]
  },
  {
   "cell_type": "code",
   "execution_count": null,
   "metadata": {},
   "outputs": [],
   "source": [
    "performance_rnn_generate \\\n",
    "--run_dir=/tmp/performance_rnn/logdir/run1 \\\n",
    "--output_dir=/tmp/performance_rnn/generated \\\n",
    "--config=${CONFIG} \\\n",
    "--num_outputs=10 \\\n",
    "--num_steps=3000 \\\n",
    "--primer_melody=\"[60,62,64,65,67,69,71,72]\""
   ]
  },
  {
   "cell_type": "markdown",
   "metadata": {},
   "source": [
    "## Save model if you like it!"
   ]
  },
  {
   "cell_type": "code",
   "execution_count": null,
   "metadata": {},
   "outputs": [],
   "source": [
    "performance_rnn_generate \\\n",
    "  --config=${CONFIG} \\\n",
    "  --run_dir=/tmp/performance_rnn/logdir/run1 \\\n",
    "  --bundle_file=/tmp/performance_rnn.mag \\\n",
    "  --save_generator_bundle"
   ]
  }
 ],
 "metadata": {
  "kernelspec": {
   "display_name": "Python 3",
   "language": "python",
   "name": "python3"
  },
  "language_info": {
   "codemirror_mode": {
    "name": "ipython",
    "version": 3
   },
   "file_extension": ".py",
   "mimetype": "text/x-python",
   "name": "python",
   "nbconvert_exporter": "python",
   "pygments_lexer": "ipython3",
   "version": "3.6.9"
  }
 },
 "nbformat": 4,
 "nbformat_minor": 4
}
